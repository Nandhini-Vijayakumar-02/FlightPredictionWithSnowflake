{
 "metadata": {
  "kernelspec": {
   "display_name": "Streamlit Notebook",
   "name": "streamlit"
  }
 },
 "nbformat_minor": 5,
 "nbformat": 4,
 "cells": [
  {
   "cell_type": "code",
   "id": "3775908f-ca36-4846-8f38-5adca39217f2",
   "metadata": {
    "language": "python",
    "name": "cell1",
    "resultHeight": 0
   },
   "source": "# Import python packages\nimport streamlit as st\nimport pandas as pd\n\n# We can also use Snowpark for our analyses!\nfrom snowflake.snowpark.context import get_active_session\nsession = get_active_session()\n",
   "execution_count": null,
   "outputs": []
  },
  {
   "cell_type": "code",
   "id": "8d50cbf4-0c8d-4950-86cb-114990437ac9",
   "metadata": {
    "language": "sql",
    "name": "cell2",
    "collapsed": false,
    "resultHeight": 112
   },
   "source": "CREATE OR REPLACE PROCEDURE run_workflow()\nRETURNS STRING\nLANGUAGE JAVASCRIPT\nEXECUTE AS CALLER\nAS $$\ntry {\n    // Step 1: Run Data Ingestion\n    var result1 = snowflake.execute(\"RUN NOTEBOOK 'AIRLINEDELAY.PUBLIC.DATA_INGESTION/versions/live/notebook_app.ipynb'\");\n    \n    // Step 2: Run Data Transformation\n    var result2 = snowflake.execute(\"RUN NOTEBOOK 'AIRLINEDELAY.PUBLIC.DATA_TRANSFORMATION/versions/live/notebook_app.ipynb'\");\n    \n    // Step 3: Run Airline Delay EDA\n    var result3 = snowflake.execute(\"RUN NOTEBOOK 'AIRLINEDELAY.PUBLIC.AIRLINEDELAY_EDA/versions/live/notebook_app.ipynb'\");\n    \n    // Step 4: Run Flight Delay Classification Model\n    var result4 = snowflake.execute(\"RUN NOTEBOOK 'AIRLINEDELAY.PUBLIC.FLIGHTDELAY_CLASSIFICATION_MODEL/versions/live/notebook_app.ipynb'\");\n    \n    // Step 5: Run Flight Delay Prediction Model\n    var result5 = snowflake.execute(\"RUN NOTEBOOK 'AIRLINEDELAY.PUBLIC.FLIGHTDELAY_PREDICTION_MODEL/versions/live/notebook_app.ipynb'\");\n    \n    return 'Workflow completed successfully!';\n} catch (err) {\n    return 'Error during workflow: ' + err.message;\n}\n$$;\n",
   "execution_count": null,
   "outputs": []
  },
  {
   "cell_type": "code",
   "id": "c695373e-ac74-4b62-a1f1-08206cbd5c81",
   "metadata": {
    "language": "sql",
    "name": "cell3",
    "collapsed": false,
    "resultHeight": 112
   },
   "source": "CREATE OR REPLACE TASK run_workflow_task\nWAREHOUSE = COMPUTE_WH  -- Specify the warehouse to use\nSCHEDULE = 'USING CRON 0 0 * * * UTC'  -- Runs daily at 12 AM (midnight) UTC\nCOMMENT = 'Task to run the full workflow procedure.'\nAS\n CALL run_workflow();\n",
   "execution_count": null,
   "outputs": []
  },
  {
   "cell_type": "code",
   "id": "656caee4-6ef8-4cce-8fe6-e34bf56f3a42",
   "metadata": {
    "language": "sql",
    "name": "cell4",
    "collapsed": false,
    "resultHeight": 112
   },
   "outputs": [],
   "source": "ALTER TASK run_workflow_task RESUME;\n",
   "execution_count": null
  },
  {
   "cell_type": "code",
   "id": "31a58fd9-0644-439f-a440-c62585887fa9",
   "metadata": {
    "language": "sql",
    "name": "cell5",
    "collapsed": false,
    "resultHeight": 112
   },
   "outputs": [],
   "source": "SHOW TASKS LIKE 'run_workflow_task';\n",
   "execution_count": null
  },
  {
   "cell_type": "code",
   "id": "578a07f1-9d2d-4d35-96c0-8cf6e29c4bfb",
   "metadata": {
    "language": "sql",
    "name": "cell6",
    "collapsed": false,
    "resultHeight": 0
   },
   "outputs": [],
   "source": "\n",
   "execution_count": null
  }
 ]
}