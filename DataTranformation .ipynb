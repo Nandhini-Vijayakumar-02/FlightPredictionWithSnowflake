{
 "metadata": {
  "kernelspec": {
   "display_name": "Streamlit Notebook",
   "name": "streamlit"
  }
 },
 "nbformat_minor": 5,
 "nbformat": 4,
 "cells": [
  {
   "cell_type": "code",
   "id": "3775908f-ca36-4846-8f38-5adca39217f2",
   "metadata": {
    "language": "python",
    "name": "cell1",
    "collapsed": false,
    "resultHeight": 0
   },
   "source": "# Import python packages\nimport streamlit as st\nimport pandas as pd\n\n# We can also use Snowpark for our analyses!\nfrom snowflake.snowpark.context import get_active_session\nsession = get_active_session()\n",
   "execution_count": null,
   "outputs": []
  },
  {
   "cell_type": "code",
   "id": "8d50cbf4-0c8d-4950-86cb-114990437ac9",
   "metadata": {
    "language": "python",
    "name": "cell2",
    "collapsed": false,
    "resultHeight": 239
   },
   "source": "query = \"SELECT * FROM FLIGHT_DATA\"\nflightsinfo = session.sql(query).to_pandas()\n\n# Use pandas describe method for descriptive statistics\nsummary = flightsinfo.describe()\n\n# Display the summary statistics\nprint(summary)",
   "execution_count": null,
   "outputs": []
  },
  {
   "cell_type": "code",
   "id": "7f2f339d-d3cd-44f3-8ecf-a8e3e8deff8a",
   "metadata": {
    "language": "python",
    "name": "cell3",
    "collapsed": false,
    "resultHeight": 0
   },
   "outputs": [],
   "source": "# This function converts a given number\n# of hours into a datetime.time object representing the corresponding time in hours and minutes.\n# for example-->hours = 1230\n# Output: 12:30:00\nimport datetime\ndef create_time_formatted(value):\n# Convert float to integer by truncating the decimal part\n    if isinstance(value, float):\n        value = int(value)\n    # Check if the value is an integer\n    if isinstance(value, int):\n    # Handle the special case for 2400\n        if value == 2400:\n            return datetime.time(0, 0)\n    # Format the number as a 4-digit string (e.g., 900 becomes \"0900\")\n        formatted_hours = \"{0:04d}\".format(value)\n    # Extract the first two characters as hours and the last two as minutes\n        hour_part = int(formatted_hours[:2])\n        minute_part = int(formatted_hours[2:])\n    # Return a time object using the extracted hours and minutes\n        return datetime.time(hour_part, minute_part)",
   "execution_count": null
  },
  {
   "cell_type": "code",
   "id": "93505c59-416c-4f6a-a815-905fa2c91499",
   "metadata": {
    "language": "python",
    "name": "cell6",
    "collapsed": false,
    "resultHeight": 0
   },
   "outputs": [],
   "source": "# dropping all rows that contain NaN or missing value of selected columns\nflightsinfo1 = flightsinfo.dropna(subset = [\"TAIL_NUMBER\",'DEPARTURE_TIME','DEPARTURE_DELAY','TAXI_OUT','WHEELS_OFF','ELAPSED_TIME','AIR_TIME','WHEELS_ON','TAXI_IN','ARRIVAL_TIME','ARRIVAL_DELAY'])",
   "execution_count": null
  },
  {
   "cell_type": "code",
   "id": "f35835f7-5b89-4c76-b816-c7a2e0c890aa",
   "metadata": {
    "language": "python",
    "name": "cell7",
    "collapsed": false,
    "resultHeight": 439
   },
   "outputs": [],
   "source": "flightsinfo1.isnull().sum()",
   "execution_count": null
  },
  {
   "cell_type": "code",
   "id": "12b01438-fb1b-40a3-8f49-26be3616904a",
   "metadata": {
    "language": "python",
    "name": "cell4",
    "collapsed": false,
    "resultHeight": 0
   },
   "outputs": [],
   "source": "#Dropping all the non-contributing factors of delays as they are redundant ,we are only going to focus on the over al\nflightsinfo2 = flightsinfo1.drop(['CANCELLATION_REASON','AIR_SYSTEM_DELAY','SECURITY_DELAY','AIRLINE_DELAY',\n'LATE_AIRCRAFT_DELAY','WEATHER_DELAY'],axis = 1)",
   "execution_count": null
  },
  {
   "cell_type": "code",
   "id": "762a3386-7999-4a47-b86e-5ba628244991",
   "metadata": {
    "language": "python",
    "name": "cell5",
    "collapsed": false,
    "resultHeight": 439
   },
   "outputs": [],
   "source": "flightsinfo2.isnull().sum()",
   "execution_count": null
  },
  {
   "cell_type": "code",
   "id": "59c42a09-4af7-4fdc-b8d3-fb4f4b536263",
   "metadata": {
    "language": "python",
    "name": "cell8",
    "collapsed": false,
    "resultHeight": 738
   },
   "outputs": [],
   "source": "flightsinfo2.info()",
   "execution_count": null
  },
  {
   "cell_type": "code",
   "id": "c932a7a6-686c-45a7-b7da-6ff8c98c25c6",
   "metadata": {
    "language": "python",
    "name": "cell9",
    "collapsed": false,
    "resultHeight": 511
   },
   "outputs": [],
   "source": "flightsinfo2[['WHEELS_OFF','DEPARTURE_TIME','SCHEDULED_DEPARTURE']]",
   "execution_count": null
  },
  {
   "cell_type": "code",
   "id": "f7529375-9a9f-4cdc-af51-667c2857391e",
   "metadata": {
    "language": "python",
    "name": "cell10",
    "collapsed": false,
    "resultHeight": 0
   },
   "outputs": [],
   "source": "flightsinfo2['WHEELS_OFF'] = flightsinfo2['WHEELS_OFF'].apply(create_time_formatted)\nflightsinfo2['Actual_Departure'] = flightsinfo1['DEPARTURE_TIME'].apply(create_time_formatted)\nflightsinfo2['Scheduled_Departure'] = flightsinfo1['SCHEDULED_DEPARTURE'].apply(create_time_formatted)",
   "execution_count": null
  },
  {
   "cell_type": "code",
   "id": "1ccbb516-730d-4ed7-bc33-13832bb8cff4",
   "metadata": {
    "language": "python",
    "name": "cell11",
    "collapsed": false,
    "resultHeight": 511
   },
   "outputs": [],
   "source": "flightsinfo2[['Actual_Departure','Scheduled_Departure','WHEELS_OFF']]",
   "execution_count": null
  },
  {
   "cell_type": "code",
   "id": "dea54756-273f-4b2b-b2dd-e3efab99429e",
   "metadata": {
    "language": "python",
    "name": "cell12",
    "collapsed": false,
    "resultHeight": 0
   },
   "outputs": [],
   "source": "flightsinfo2['Scheduled_Arrival'] = flightsinfo1['SCHEDULED_ARRIVAL'].apply(create_time_formatted)\nflightsinfo2['Actual_Arrival'] = flightsinfo2['ARRIVAL_TIME'].apply(create_time_formatted)",
   "execution_count": null
  },
  {
   "cell_type": "code",
   "id": "f291ebb2-92a4-4349-add9-65aa50d4d6f5",
   "metadata": {
    "language": "python",
    "name": "cell13",
    "collapsed": false,
    "resultHeight": 511
   },
   "outputs": [],
   "source": "flightsinfo2[['Scheduled_Arrival','Actual_Arrival']]",
   "execution_count": null
  },
  {
   "cell_type": "code",
   "id": "8a5063f3-cfe1-4967-8cf3-6c4ee7d6e220",
   "metadata": {
    "language": "python",
    "name": "cell14",
    "collapsed": false,
    "resultHeight": 0
   },
   "outputs": [],
   "source": "# Function to convert HH:MM:SS to minutes\nfrom datetime import datetime\ndef time_to_minutes(time_obj):\n    return time_obj.hour * 60 + time_obj.minute",
   "execution_count": null
  },
  {
   "cell_type": "code",
   "id": "e43cdd7d-27fa-429f-982e-c39b8dc74f4c",
   "metadata": {
    "language": "python",
    "name": "cell15",
    "collapsed": false,
    "resultHeight": 0
   },
   "outputs": [],
   "source": "flightsinfo2['SCHEDULED_DEPARTURE'] = flightsinfo2['Scheduled_Departure'].apply(time_to_minutes)\nflightsinfo2['DEPARTURE_TIME'] = flightsinfo2['Actual_Departure'].apply(time_to_minutes)\nflightsinfo2['WHEELS_OFF'] = flightsinfo2['WHEELS_OFF'].apply(time_to_minutes)",
   "execution_count": null
  },
  {
   "cell_type": "code",
   "id": "00f29547-99af-40dd-aceb-e2cc30a6cd05",
   "metadata": {
    "language": "python",
    "name": "cell16",
    "collapsed": false,
    "resultHeight": 511
   },
   "outputs": [],
   "source": "flightsinfo2[['SCHEDULED_DEPARTURE','DEPARTURE_TIME','WHEELS_OFF']]",
   "execution_count": null
  },
  {
   "cell_type": "code",
   "id": "5a61a085-87bd-49ce-82db-54fd80bdb835",
   "metadata": {
    "language": "python",
    "name": "cell17",
    "collapsed": false,
    "resultHeight": 439
   },
   "outputs": [],
   "source": "flightsinfo2.columns",
   "execution_count": null
  },
  {
   "cell_type": "code",
   "id": "f79113f7-b933-49e9-a959-baad40d4c5e8",
   "metadata": {
    "language": "python",
    "name": "cell18",
    "collapsed": false,
    "resultHeight": 0
   },
   "outputs": [],
   "source": "flightsinfo2['DATE'] = pd.to_datetime(flightsinfo2[['YEAR','MONTH','DAY']])",
   "execution_count": null
  },
  {
   "cell_type": "code",
   "id": "b2a78ad9-cd6a-4b6a-9543-97869c797e9b",
   "metadata": {
    "language": "python",
    "name": "cell19",
    "resultHeight": 0
   },
   "outputs": [],
   "source": "# Add a new column 'WEEK' which contains the day of the week from the 'DATE' column\nflightsinfo2['WEEK'] = flightsinfo2['DATE'].dt.day_name()",
   "execution_count": null
  },
  {
   "cell_type": "code",
   "id": "6a845189-8196-4c65-9b6b-eed0105ef81d",
   "metadata": {
    "language": "python",
    "name": "cell20",
    "codeCollapsed": false
   },
   "outputs": [],
   "source": "flightsinfo2['WEEK']",
   "execution_count": null
  },
  {
   "cell_type": "code",
   "id": "b15c7fe8-9220-4e73-ac35-9710e2a4d3ee",
   "metadata": {
    "language": "python",
    "name": "cell21",
    "collapsed": false,
    "resultHeight": 0
   },
   "outputs": [],
   "source": "#Create a TIME_OF_DAY column for further use in visualization purpose\n# Function to categorize time of day\ndef categorize_time_of_day(minutes):\n    if 240 <= minutes < 720:\n        return 'Morning'\n    elif 720 <= minutes < 1080:\n        return 'Afternoon'\n    elif 1080 <= minutes < 1260:\n        return 'Evening'\n    else:\n        return 'Night'\n# Apply the categorization function to create 'Time_of_Day'\nflightsinfo2['TIME_OF_DAY'] = flightsinfo2['DEPARTURE_TIME'].apply(categorize_time_of_day)",
   "execution_count": null
  },
  {
   "cell_type": "code",
   "id": "df41066c-ed1a-4729-9a65-6d597f84b86a",
   "metadata": {
    "language": "python",
    "name": "cell22",
    "collapsed": false,
    "resultHeight": 217
   },
   "outputs": [],
   "source": "flightsinfo2['TIME_OF_DAY'].value_counts()",
   "execution_count": null
  },
  {
   "cell_type": "code",
   "id": "52a2958a-abcd-44d3-8857-ded1fbd56fb8",
   "metadata": {
    "language": "python",
    "name": "cell24",
    "collapsed": false,
    "resultHeight": 172
   },
   "outputs": [],
   "source": "query = \"SELECT * FROM AIRPORT\"\nairport = session.sql(query).to_pandas()\n\n# Use pandas' describe method for descriptive statistics\nsummary = airport.head()\n\n# Display the summary statistics\nprint(summary)",
   "execution_count": null
  },
  {
   "cell_type": "code",
   "id": "7794b452-ed40-4855-81d9-dab68398a519",
   "metadata": {
    "language": "python",
    "name": "cell25",
    "collapsed": false,
    "resultHeight": 150
   },
   "outputs": [],
   "source": "query = \"SELECT * FROM AIRLINES\"\nairline = session.sql(query).to_pandas()\n\n# Use pandas' describe method for descriptive statistics\nsummary = airline.head()\n\n# Display the summary statistics\nprint(summary)",
   "execution_count": null
  },
  {
   "cell_type": "code",
   "id": "1b50568c-3afb-410b-b012-1d27ad1bf90f",
   "metadata": {
    "language": "python",
    "name": "cell23",
    "collapsed": false,
    "resultHeight": 0
   },
   "outputs": [],
   "source": "flightsinfo2 = flightsinfo2.merge(airline, left_on='AIRLINE', right_on='IATA_CODE', how='inner')",
   "execution_count": null
  },
  {
   "cell_type": "code",
   "id": "d6f95c8d-fbe0-473f-96a9-b31fc5227032",
   "metadata": {
    "language": "python",
    "name": "cell26",
    "collapsed": false,
    "resultHeight": 439
   },
   "outputs": [],
   "source": "flightsinfo2.columns",
   "execution_count": null
  },
  {
   "cell_type": "code",
   "id": "224710bc-5b53-46f2-b6ed-b97f772a76eb",
   "metadata": {
    "language": "python",
    "name": "cell27",
    "collapsed": false,
    "resultHeight": 0
   },
   "outputs": [],
   "source": "flightsinfo2 = flightsinfo2.drop(['IATA_CODE'], axis=1)\nflightsinfo2 = flightsinfo2.rename(columns={\"AIRLINE_x\":\"AIRLINE\",\"AIRLINE_y\":\"AIRLINE_NAME\"})",
   "execution_count": null
  },
  {
   "cell_type": "code",
   "id": "0f2eb790-e202-4cb2-aa85-f5669d9ed81a",
   "metadata": {
    "language": "python",
    "name": "cell28",
    "collapsed": false,
    "resultHeight": 0
   },
   "outputs": [],
   "source": "flightsinfo2 = flightsinfo2.merge(airport, left_on='ORIGIN_AIRPORT', right_on='IATA_CODE', how='inner')\n#The code merges the flightsinfo2 DataFrame with the airport DataFrame based on the 'ORIGIN_AIRPORT' and 'IATA_CODE'# keeping only rows that have matching values in both DataFrames",
   "execution_count": null
  },
  {
   "cell_type": "code",
   "id": "13c61250-ac83-481e-9e81-ff5a2aed96bd",
   "metadata": {
    "language": "python",
    "name": "cell29",
    "collapsed": false,
    "resultHeight": 0
   },
   "outputs": [],
   "source": "flightsinfo2 = flightsinfo2.merge(airport, left_on='DESTINATION_AIRPORT', right_on='IATA_CODE', how='inner')\n#The code merges the flightsinfo2 DataFrame with the airport DataFrame based on the 'DESTINATION_AIRPORT' and 'IATA_C# keeping only rows that have matching values in both DataFrames",
   "execution_count": null
  },
  {
   "cell_type": "code",
   "id": "35a86f30-fb5e-473c-b7b6-efe01117de22",
   "metadata": {
    "language": "python",
    "name": "cell30",
    "collapsed": false,
    "resultHeight": 439
   },
   "outputs": [],
   "source": "flightsinfo2.columns",
   "execution_count": null
  },
  {
   "cell_type": "code",
   "id": "638802bc-ccc3-4cbd-a718-d157019b70b2",
   "metadata": {
    "language": "python",
    "name": "cell31",
    "collapsed": false,
    "resultHeight": 262
   },
   "outputs": [],
   "source": "# Drop specified columns only if they exist in the DataFrame\ncolumns_to_drop = ['LATITUDE_x', 'LONGITUDE_x', 'LATITUDE_y', 'LONGITUDE_y', 'index_x', 'index_y']\nflightsinfo2 = flightsinfo2.drop(columns=[col for col in columns_to_drop if col in flightsinfo2.columns], axis=1)\n\n# Display the remaining columns\nprint(flightsinfo2.columns)",
   "execution_count": null
  },
  {
   "cell_type": "code",
   "id": "43037c62-d16c-4fb4-aea4-70008011a039",
   "metadata": {
    "language": "python",
    "name": "cell32",
    "collapsed": false,
    "resultHeight": 284
   },
   "outputs": [],
   "source": "# Rename the columns in flightsinfo2\nflightsinfo2 = flightsinfo2.rename(columns={\n    'IATA_CODE_x': 'ORG_AIRPORT_CODE',\n    'AIRPORT_x': 'ORG_AIRPORT_NAME',\n    'CITY_x': 'ORGIN_CITY',\n    'IATA_CODE_y': 'DEST_AIRPORT_CODE',\n    'AIRPORT_y': 'DEST_AIRPORT_NAME',\n    'CITY_y': 'DESTINATION_CITY' ##,'FLIGHT_COUNT_x' = '', 'FLIGHT_COUNT_y' =''\n    \n})\n\n# Display the renamed columns\nprint(flightsinfo2.columns)",
   "execution_count": null
  },
  {
   "cell_type": "code",
   "id": "f5feef21-a1ba-4f16-9c58-68ade9629db6",
   "metadata": {
    "language": "python",
    "name": "cell33",
    "collapsed": false,
    "resultHeight": 439
   },
   "outputs": [],
   "source": "# Save Snowpark DataFrame as a table\n\nsession.write_pandas(\n    flightsinfo2, \n    \"AIRLINE_ENRICHED\", \n    auto_create_table=True)\n\n",
   "execution_count": null
  },
  {
   "cell_type": "code",
   "id": "dabf1bc8-66b7-4d05-988b-d688bbd2e1b1",
   "metadata": {
    "language": "sql",
    "name": "cell34",
    "collapsed": false,
    "resultHeight": 427
   },
   "outputs": [],
   "source": "SELECT TOP 10 * FROM AIRLINE_ENRICHED",
   "execution_count": null
  },
  {
   "cell_type": "code",
   "id": "ee574289-03d7-45a1-bf2f-4d18a39a038c",
   "metadata": {
    "language": "sql",
    "name": "cell36",
    "collapsed": false,
    "resultHeight": 439
   },
   "outputs": [],
   "source": "DESC TABLE AIRLINE_ENRICHED;\n",
   "execution_count": null
  },
  {
   "cell_type": "code",
   "id": "35f69223-25e1-4884-9e91-54924d6dce8c",
   "metadata": {
    "language": "sql",
    "name": "cell38",
    "collapsed": false,
    "resultHeight": 112
   },
   "outputs": [],
   "source": "ALTER TABLE AIRLINE_ENRICHED ADD COLUMN converted_date TIMESTAMP_NTZ;\n",
   "execution_count": null
  },
  {
   "cell_type": "code",
   "id": "e21faa07-9d7a-483d-9f97-8ec212424e2a",
   "metadata": {
    "language": "sql",
    "name": "cell39",
    "collapsed": false,
    "resultHeight": 112
   },
   "outputs": [],
   "source": "UPDATE AIRLINE_ENRICHED\nSET converted_date = TO_TIMESTAMP_NTZ(date / 1e9);\n",
   "execution_count": null
  },
  {
   "cell_type": "code",
   "id": "5e158f42-5c83-46e2-84a7-696550a387d8",
   "metadata": {
    "language": "sql",
    "name": "cell40",
    "collapsed": false,
    "resultHeight": 112
   },
   "outputs": [],
   "source": "ALTER TABLE AIRLINE_ENRICHED RENAME COLUMN converted_date TO DATE;\n",
   "execution_count": null
  },
  {
   "cell_type": "code",
   "id": "dfcdcc06-5933-4fba-953d-3acf036973cd",
   "metadata": {
    "language": "python",
    "name": "cell35"
   },
   "outputs": [],
   "source": "",
   "execution_count": null
  }
 ]
}